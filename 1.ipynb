{
 "cells": [
  {
   "cell_type": "code",
   "execution_count": 11,
   "id": "eac6d747-7c0a-40c1-b509-6bf74b4c78ac",
   "metadata": {},
   "outputs": [
    {
     "name": "stdout",
     "output_type": "stream",
     "text": [
      "Hello World\n"
     ]
    }
   ],
   "source": [
    "print(\"Hello World\")"
   ]
  },
  {
   "cell_type": "code",
   "execution_count": 12,
   "id": "48bb288a-8e6c-4a53-88d5-990663517e0d",
   "metadata": {},
   "outputs": [
    {
     "name": "stdout",
     "output_type": "stream",
     "text": [
      "[1, 1, 1, 2, 2, 2]\n"
     ]
    }
   ],
   "source": [
    "a=[1,1,1,2,2,2]\n",
    "print(a)"
   ]
  },
  {
   "cell_type": "code",
   "execution_count": 13,
   "id": "d5e22dec-2cb3-4449-87dc-97cd8133698c",
   "metadata": {},
   "outputs": [],
   "source": [
    "b=set(a)"
   ]
  },
  {
   "cell_type": "code",
   "execution_count": 14,
   "id": "fabdd92b-c9ba-4207-8201-5bbf0bf290b0",
   "metadata": {},
   "outputs": [
    {
     "name": "stdout",
     "output_type": "stream",
     "text": [
      "{1, 2}\n"
     ]
    }
   ],
   "source": [
    "print(b)"
   ]
  },
  {
   "cell_type": "code",
   "execution_count": 16,
   "id": "d538ef56-c49f-4d9e-bc38-606ae9ceadbc",
   "metadata": {},
   "outputs": [
    {
     "name": "stdout",
     "output_type": "stream",
     "text": [
      "[1, 2]\n"
     ]
    }
   ],
   "source": [
    "c=list(b)\n",
    "print(c)"
   ]
  },
  {
   "cell_type": "code",
   "execution_count": 17,
   "id": "0f14e946-3b39-401f-8278-491ef02549e7",
   "metadata": {},
   "outputs": [],
   "source": [
    "a=[1,1,1,2,2,2,3,3,4,5]"
   ]
  },
  {
   "cell_type": "code",
   "execution_count": 18,
   "id": "b0f13d37-038d-4c20-931b-d1fceb527564",
   "metadata": {},
   "outputs": [
    {
     "name": "stdout",
     "output_type": "stream",
     "text": [
      "[1, 2, 3, 4, 5]\n"
     ]
    }
   ],
   "source": [
    "b = list(set(a))\n",
    "print(b)"
   ]
  },
  {
   "cell_type": "code",
   "execution_count": 34,
   "id": "8d3512e0-9630-4ba9-b8f0-9a19fa37f482",
   "metadata": {},
   "outputs": [],
   "source": [
    "def function_a(a) :\n",
    "    print(\"Hello\")\n",
    "    a(12)\n",
    "    \n",
    "def function_b(b):\n",
    "    print(b)"
   ]
  },
  {
   "cell_type": "code",
   "execution_count": 35,
   "id": "04349941-3648-4c07-b26c-822ea57eef92",
   "metadata": {},
   "outputs": [
    {
     "name": "stdout",
     "output_type": "stream",
     "text": [
      "Hello\n",
      "12\n"
     ]
    }
   ],
   "source": [
    "function_a(function_b)"
   ]
  },
  {
   "cell_type": "code",
   "execution_count": 44,
   "id": "d8aa0284-1f0a-42a5-9a85-880d7b0bcded",
   "metadata": {},
   "outputs": [
    {
     "name": "stdout",
     "output_type": "stream",
     "text": [
      "1\n"
     ]
    }
   ],
   "source": [
    "def hcf (f1,f2):\n",
    "    low = f2 if f1>f2 else f1\n",
    "    return next(i for i in range(low+1,0,-1) if f1%i==0 and f2%i==0)\n",
    "\n",
    "\n",
    "print(hcf(1,6))"
   ]
  },
  {
   "cell_type": "code",
   "execution_count": null,
   "id": "823c2ff9-3545-4a26-932a-deb008d71ea3",
   "metadata": {},
   "outputs": [],
   "source": []
  },
  {
   "cell_type": "code",
   "execution_count": null,
   "id": "3b20e3ec-0fe0-4e29-a56e-1752d98eaa5c",
   "metadata": {},
   "outputs": [],
   "source": []
  },
  {
   "cell_type": "code",
   "execution_count": null,
   "id": "04fcbd22-2fd5-4669-96f9-1ce02941530d",
   "metadata": {},
   "outputs": [],
   "source": []
  },
  {
   "cell_type": "code",
   "execution_count": null,
   "id": "ee1830e2-f832-469c-8af7-204c4d503283",
   "metadata": {},
   "outputs": [],
   "source": []
  },
  {
   "cell_type": "code",
   "execution_count": null,
   "id": "f55f7cad-dc7a-4cbe-ab21-e69c98085529",
   "metadata": {},
   "outputs": [],
   "source": []
  }
 ],
 "metadata": {
  "kernelspec": {
   "display_name": "Python 3 (ipykernel)",
   "language": "python",
   "name": "python3"
  },
  "language_info": {
   "codemirror_mode": {
    "name": "ipython",
    "version": 3
   },
   "file_extension": ".py",
   "mimetype": "text/x-python",
   "name": "python",
   "nbconvert_exporter": "python",
   "pygments_lexer": "ipython3",
   "version": "3.9.1"
  }
 },
 "nbformat": 4,
 "nbformat_minor": 5
}
