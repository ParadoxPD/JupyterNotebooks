{
 "cells": [
  {
   "cell_type": "code",
   "execution_count": 9,
   "id": "2ded2d73-5fa9-4886-a387-42d75e44ac81",
   "metadata": {},
   "outputs": [
    {
     "name": "stdin",
     "output_type": "stream",
     "text": [
      " [1,1,2,2,2,3,3,3,4,4,44,4,5,5,5,56,6,6,6,7,7,77,8,8,8,8,9,9,9,9,0,0,0,0]\n"
     ]
    },
    {
     "name": "stdout",
     "output_type": "stream",
     "text": [
      "[0, 1, 2, 3, 4, 5, 6, 7, 8, 9, 44, 77, 56]\n"
     ]
    }
   ],
   "source": [
    "def removeDuplicates(array):\n",
    "    # Uses the concept of sets to remove duplicates\n",
    "    # Convert the array(list) to a set , which removes the duplicate elements and then reconvert it back to a list.\n",
    "    \n",
    "    return list(set(array))\n",
    "\n",
    "\n",
    "data = input()\n",
    "data = list(int(ele) for ele in data[1:len(data)-1].split(','))\n",
    "# print(data)\n",
    "print(removeDuplicates(data))\n",
    "    "
   ]
  },
  {
   "cell_type": "code",
   "execution_count": null,
   "id": "117962fd-7b08-4995-8aa5-c7e5c3cab079",
   "metadata": {},
   "outputs": [],
   "source": []
  },
  {
   "cell_type": "code",
   "execution_count": null,
   "id": "8318e700-b05c-4a75-9742-48da6e1086d1",
   "metadata": {},
   "outputs": [],
   "source": []
  }
 ],
 "metadata": {
  "kernelspec": {
   "display_name": "Python 3 (ipykernel)",
   "language": "python",
   "name": "python3"
  },
  "language_info": {
   "codemirror_mode": {
    "name": "ipython",
    "version": 3
   },
   "file_extension": ".py",
   "mimetype": "text/x-python",
   "name": "python",
   "nbconvert_exporter": "python",
   "pygments_lexer": "ipython3",
   "version": "3.9.1"
  }
 },
 "nbformat": 4,
 "nbformat_minor": 5
}
